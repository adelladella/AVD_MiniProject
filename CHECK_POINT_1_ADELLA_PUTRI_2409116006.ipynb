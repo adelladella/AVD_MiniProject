{
  "nbformat": 4,
  "nbformat_minor": 0,
  "metadata": {
    "colab": {
      "provenance": [],
      "include_colab_link": true
    },
    "kernelspec": {
      "name": "python3",
      "display_name": "Python 3"
    },
    "language_info": {
      "name": "python"
    }
  },
  "cells": [
    {
      "cell_type": "markdown",
      "metadata": {
        "id": "view-in-github",
        "colab_type": "text"
      },
      "source": [
        "<a href=\"https://colab.research.google.com/github/adelladella/AVD_MiniProject/blob/main/CHECK_POINT_1_ADELLA_PUTRI_2409116006.ipynb\" target=\"_parent\"><img src=\"https://colab.research.google.com/assets/colab-badge.svg\" alt=\"Open In Colab\"/></a>"
      ]
    },
    {
      "cell_type": "markdown",
      "source": [
        "## **Checkpoint 1 - Data Gathering & Business Understanding**\n",
        "\n",
        "Nama : Adella Putri\n",
        "\n",
        "NIM : 2409116006\n",
        "\n",
        "Kelas : A' Ssitem Informasi 2024\n"
      ],
      "metadata": {
        "id": "hgaiuvNdUyYe"
      }
    },
    {
      "cell_type": "markdown",
      "source": [
        "# **BUSINESS UNDERSTANDING**  "
      ],
      "metadata": {
        "id": "I9RpWXYCVchK"
      }
    },
    {
      "cell_type": "markdown",
      "source": [
        "## **Business Objective**  \n",
        "Proyek ini bertujuan untuk memahami pola transaksi pelanggan dalam industri ritel guna mendorong inovasi dan pengembangan strategi bisnis yang lebih efektif. Dengan menganalisis kecenderungan pelanggan berdasarkan faktor karakteristik populasi, pola pembelian, dan kategori produk yang diminati, analisis ini dapat membantu dalam merancang strategi pemasaran yang lebih tepat sasaran serta meningkatkan kelancaran bisnis. Selain itu, wawasan yang diperoleh dari analisis data ini dapat digunakan untuk meningkatkan pengalaman pelanggan dan mengoptimalkan penawaran produk sesuai dengan kebutuhan pasar.  "
      ],
      "metadata": {
        "id": "QI1opI_wVk7b"
      }
    },
    {
      "cell_type": "markdown",
      "source": [
        "## **Assess Situation**  \n",
        "Industri ritel terus berkembang dengan tren pasar yang terus berubah dan penuh persaingan. Perubahan perilaku konsumen, kemajuan teknologi, serta ragam pilihan produk yang beragam menuntut perusahaan untuk memiliki pemahaman yang lebih mendalam terhadap pelanggannya. Dengan adanya analisis data yang menyeluruh, perusahaan dapat mengidentifikasi pola pembelian yang umum serta memahami faktor-faktor yang mempengaruhi keputusan pelanggan. Oleh karena itu, analisis pengeleompokkan pelanggan menjadi aspek penting dalam menghadapi perubahan pasar dan memanfaatkan peluang pertumbuhan.  \n"
      ],
      "metadata": {
        "id": "oryW1w1kVuZp"
      }
    },
    {
      "cell_type": "markdown",
      "source": [
        "## **Data Mining Goals**  \n",
        "Tujuan utama dalam analisis data ini adalah mengidentifikasi kelompok pelanggan yang berpotensi untuk meningkatkan inovasi dan pertumbuhan bisnis secara berkelanjutan. Dengan mengeksplorasi hubungan antara atribut pelanggan seperti usia, jenis kelamin, preferensi produk, serta jumlah transaksi, analisis ini berupaya untuk memahami pola belanja yang mendasari perilaku pelanggan. Wawasan yang diperoleh dapat digunakan untuk mengoptimalkan strategi pemasaran, meningkatkan loyalitas pelanggan, serta mengembangkan produk yang lebih sesuai dengan kebutuhan pasar.  "
      ],
      "metadata": {
        "id": "c64D0dBbV7G9"
      }
    },
    {
      "cell_type": "markdown",
      "source": [
        "## **Project Plan**\n",
        "Langkah pertama dalam Rencana Proyek ini adalah **pengumpulan dan pemahaman data**, di mana dataset yang digunakan akan diperiksa secara menyeluruh untuk memhami struktur serta karakteristiknya. Dataset ini berisi berbagai atribut penting dalam transaksi ritel, seperti **Transaction ID, Date, Customer ID, Gender, Age, Product Category, Quantity, Price per Unit, dan Total Amount**, yang memungkinkan analisis menyeluruh terhadap tren penjualan, pengaruh karakteristik pelanggan, dan kebiasaan belanja pelanggan.\n",
        "\n",
        "Selanjutnya, dilakukan **preprocessing data** yang mencakup deteksi dan penanganan data yang hilang, duplikasi, serta outlier yang dapat memengaruhi hasil analisis. Normalisasi dan standarisasi data juga akan diterapkan jika diperlukan, guna memastikan bahwa data siap untuk diolah lebih lanjut dalam tahap eksplorasi dan pemodelan.\n",
        "\n",
        "Pada tahap **eksplorasi data (Exploratory Data Analysis/EDA)**, analisi dilakukan untuk mengidentifikasi pola dan hubungan yang terdapat dalam data. Beberapa aspek yang akan diteliti antara lain bagimana **usia dan jenis kelamin pelanggan memengaruhi pola pembelian**, apakah terdapat **pola penjualan berdasarkan periode waktu tertentu, serta kategori produk mana yang memiliki tingkatpembelian tertinggi. Selain itu, analisis juga mencakup hubungan antara usia pelanggan, jumlah pembelian, serta preferensi produk untuk memperoleh pemahaman lebih dalam mengenai perilaku belanja pelanggan.\n",
        "\n",
        "Setelah eksplorasi data, proyek ini akan berlanjut ke tahap **pengembangan model prediktif**. Model ini akan digunakan untuk memprediksi tren pembelian pelanggan berdasarkan faktor-faktor seperti **usia, jenis kelamin, kategori produk yang sering dibeli, serta pola transaksi sebelumnya**.\n",
        "\n",
        "Pada tahap akhir, hasil analisis dan model prediktif akan disusun dalam bentuk laporan yang mencakup temuan utama serta wawasan strategis yang dapat diterapkan dalam industri ritel. Selain itu, rekomendasi strategis akan diberikan berdasarkan hasil analisis guna membantu peritel dalam meningkatkan efektivitas strategi pemasaran, optimalisasi persediaan, serta peningkatan pengalaman pelanggan.\n",
        "\n"
      ],
      "metadata": {
        "id": "Hgi6V-TVmTMk"
      }
    },
  
