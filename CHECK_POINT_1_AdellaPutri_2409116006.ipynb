{
  "nbformat": 4,
  "nbformat_minor": 0,
  "metadata": {
    "colab": {
      "provenance": [],
      "include_colab_link": true
    },
    "kernelspec": {
      "name": "python3",
      "display_name": "Python 3"
    },
    "language_info": {
      "name": "python"
    }
  },
  "cells": [
    {
      "cell_type": "markdown",
      "metadata": {
        "id": "view-in-github",
        "colab_type": "text"
      },
      "source": [
        "<a href=\"https://colab.research.google.com/github/adelladella/AVD_MiniProject/blob/main/CHECK_POINT_1_AdellaPutri_2409116006.ipynb\" target=\"_parent\"><img src=\"https://colab.research.google.com/assets/colab-badge.svg\" alt=\"Open In Colab\"/></a>"
      ]
    },
    {
      "cell_type": "markdown",
      "source": [
        "## **Checkpoint 1 - Data Gathering & Business Understanding**\n",
        "\n",
        "Nama : Adella Putri\n",
        "\n",
        "NIM : 2409116006\n",
        "\n",
        "Kelas : A' Sitem Informasi 2024\n"
      ],
      "metadata": {
        "id": "hgaiuvNdUyYe"
      }
    },
    {
      "cell_type": "markdown",
      "source": [
        "# **BUSINESS UNDERSTANDING**  "
      ],
      "metadata": {
        "id": "I9RpWXYCVchK"
      }
    },
    {
      "cell_type": "markdown",
      "source": [
        "## **Business Objective**  \n",
        "Proyek ini bertujuan untuk memahami pola transaksi pelanggan dalam industri ritel guna mendorong inovasi dan pengembangan strategi bisnis yang lebih efektif. Dengan menganalisis kecenderungan pelanggan berdasarkan faktor karakteristik populasi, pola pembelian, dan kategori produk yang diminati, analisis ini dapat membantu dalam merancang strategi pemasaran yang lebih tepat sasaran serta meningkatkan kelancaran bisnis. Selain itu, wawasan yang diperoleh dari analisis data ini dapat digunakan untuk meningkatkan pengalaman pelanggan dan mengoptimalkan penawaran produk sesuai dengan kebutuhan pasar.  "
      ],
      "metadata": {
        "id": "QI1opI_wVk7b"
      }
    },
    {
      "cell_type": "markdown",
      "source": [
        "## **Assess Situation**  \n",
        "Industri ritel terus berkembang dengan tren pasar yang terus berubah dan penuh persaingan. Perubahan perilaku konsumen, kemajuan teknologi, serta ragam pilihan produk yang beragam menuntut perusahaan untuk memiliki pemahaman yang lebih mendalam terhadap pelanggannya. Dengan adanya analisis data yang menyeluruh, perusahaan dapat mengidentifikasi pola pembelian yang umum serta memahami faktor-faktor yang mempengaruhi keputusan pelanggan. Oleh karena itu, analisis pengeleompokkan pelanggan menjadi aspek penting dalam menghadapi perubahan pasar dan memanfaatkan peluang pertumbuhan.  \n"
      ],
      "metadata": {
        "id": "oryW1w1kVuZp"
      }
    },
    {
      "cell_type": "markdown",
      "source": [
        "## **Data Mining Goals**  \n",
        "Tujuan utama dalam analisis data ini adalah mengidentifikasi kelompok pelanggan yang berpotensi untuk meningkatkan inovasi dan pertumbuhan bisnis secara berkelanjutan. Dengan mengeksplorasi hubungan antara atribut pelanggan seperti usia, jenis kelamin, preferensi produk, serta jumlah transaksi, analisis ini berupaya untuk memahami pola belanja yang mendasari perilaku pelanggan. Wawasan yang diperoleh dapat digunakan untuk mengoptimalkan strategi pemasaran, meningkatkan loyalitas pelanggan, serta mengembangkan produk yang lebih sesuai dengan kebutuhan pasar.  "
      ],
      "metadata": {
        "id": "c64D0dBbV7G9"
      }
    },
    {
      "cell_type": "markdown",
      "source": [
        "## **Project Plan**\n",
        "\n",
        "\n",
        "1. Pengumpulan dan Pemahaman Data\n",
        "*   Memeriksa struktur dan karakteristik dataset.\n",
        "*   Mengidentifikasi atribut utama seperti Transaction ID, Date, Customer ID, Gender, Age, Product Category, Quantity, Price per Unit, dan Total Amount.\n",
        "\n",
        "\n",
        "2. Preprocessing Data\n",
        "*   Menangani data yang hilang, duplikasi, dan data yang tidak wajar.\n",
        "*   Menerapkan normalisasi atau standarisasi jika diperlukan untuk memastikan data siap digunakan.\n",
        "\n",
        "\n",
        "3. Eksplorasi Data (Exploratory Data Analysis/EDA)\n",
        "*   Menganalisis hubungan antara usia, gender, dan pola pembelian.\n",
        "*   Mengidentifikasi tren penjualan berdasarkan periode waktu tertentu.\n",
        "*   Mengamati kategori produk dengan tingkat pembelian tertinggi.\n",
        "*   Meneliti hubungan antara usia, jumlah pembelian, dan preferensi produk.\n",
        "\n",
        "4. Pengembangan Model Prediktif\n",
        "*   Membangun model untuk memprediksi tren pembelian pelanggan.\n",
        "*   Menggunakan faktor seperti usia, gender, kategori produk, dan riwayat transaksi.\n",
        "\n",
        "5. Pelaporan dan Rekomendasi Strategis\n",
        "*   Merangkum hasil analisis dan menginterpretasikan temuan secara mendalam.\n",
        "*   Memberikan rekomendasi untuk meningkatkan strategi pemasaran, manajemen stok, dan pengalaman pelanggan.\n",
        "\n",
        "\n",
        "\n",
        "\n",
        "\n",
        "\n",
        "\n",
        "\n",
        "\n",
        "\n",
        "\n",
        "\n",
        "\n"
      ],
      "metadata": {
        "id": "Hgi6V-TVmTMk"
      }
    }
  ]
}